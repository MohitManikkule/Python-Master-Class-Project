{
 "cells": [
  {
   "cell_type": "code",
   "execution_count": null,
   "id": "da4bb363",
   "metadata": {},
   "outputs": [],
   "source": [
    "import random\n",
    "# library that we use in order to choose \n",
    "# on random words from a list of words "
   ]
  },
  {
   "cell_type": "code",
   "execution_count": null,
   "id": "c0ff7f23",
   "metadata": {},
   "outputs": [],
   "source": [
    "name = input(\"What is your name\")"
   ]
  },
  {
   "cell_type": "markdown",
   "id": "110d9648",
   "metadata": {},
   "source": [
    "Here the user is asked to enter the name first"
   ]
  },
  {
   "cell_type": "code",
   "execution_count": null,
   "id": "fd8e2bba",
   "metadata": {},
   "outputs": [],
   "source": [
    "print(\"Good Luck !\", name)"
   ]
  },
  {
   "cell_type": "code",
   "execution_count": null,
   "id": "a33a4986",
   "metadata": {},
   "outputs": [],
   "source": [
    "words = ['rainbow', 'computer', 'science', 'programming', \n",
    "         'python', 'mathematics', 'player', 'condition', \n",
    "         'reverse', 'python', 'board', 'devtown']"
   ]
  },
  {
   "cell_type": "code",
   "execution_count": null,
   "id": "9e678241",
   "metadata": {
    "lines_to_next_cell": 2
   },
   "outputs": [],
   "source": [
    "# Function will choose one random\n",
    "# Word from this list  of words\n",
    "word = random.choice(words)"
   ]
  },
  {
   "cell_type": "code",
   "execution_count": null,
   "id": "7a1a8be4",
   "metadata": {},
   "outputs": [],
   "source": [
    "print(\"Guess the chatacters\")"
   ]
  },
  {
   "cell_type": "code",
   "execution_count": null,
   "id": "3c64e670",
   "metadata": {},
   "outputs": [],
   "source": [
    "guesses = ''"
   ]
  },
  {
   "cell_type": "code",
   "execution_count": null,
   "id": "23746906",
   "metadata": {
    "lines_to_next_cell": 2
   },
   "outputs": [],
   "source": [
    "# any number of turns can be used here \n",
    "turns = 12"
   ]
  },
  {
   "cell_type": "code",
   "execution_count": null,
   "id": "6d43e216",
   "metadata": {
    "lines_to_next_cell": 2
   },
   "outputs": [],
   "source": [
    "while turns > 0:\n",
    "\n",
    "    # Counts the number of times a user fails\n",
    "    failed = 0\n",
    "\n",
    "    # all characters from the input\n",
    "    # word taking one at a time\n",
    "    for char in word:\n",
    "\n",
    "        # Comparing that character with\n",
    "        # the character in guesses \n",
    "        if char in guesses:\n",
    "            print(char, end=\"\")\n",
    "\n",
    "        else:\n",
    "            print(\"_\")\n",
    "\n",
    "            # for every failure 1 will be \n",
    "            # incremented in failure\n",
    "            failed += 1\n",
    "\n",
    "    if failed == 0:\n",
    "        #user will win the game if failure is 0\n",
    "        # and 'You win' will be given as output \n",
    "        print(\"You Win\")\n",
    "\n",
    "        # this print the correct word\n",
    "        print(\"The word is:\", word)\n",
    "        break \n",
    "    \n",
    "    # if user has input the wrong alphabet then\n",
    "    # it will ask user to enter another alphabet\n",
    "    print()\n",
    "    guess = input(\"guess a character:\")\n",
    "\n",
    "    #every input character will be stored in guesses\n",
    "    guesses += guess\n",
    "\n",
    "    # check input with the character in word\n",
    "    if guess not in word: \n",
    "\n",
    "        turns -= 1 \n",
    "\n",
    "        # if the character doesn't match the word \n",
    "        # then \"Wrong\" will be given as output\n",
    "        print(\"Wrong\")\n",
    "\n",
    "        # this willl print the number of\n",
    "        # turns left for the user \n",
    "        print(\"You have\", + turns, 'more guesses')\n",
    "\n",
    "        if turns == 0:\n",
    "            print(\"You Loose\")"
   ]
  }
 ],
 "metadata": {
  "jupytext": {
   "cell_metadata_filter": "-all",
   "main_language": "python",
   "notebook_metadata_filter": "-all"
  }
 },
 "nbformat": 4,
 "nbformat_minor": 5
}
